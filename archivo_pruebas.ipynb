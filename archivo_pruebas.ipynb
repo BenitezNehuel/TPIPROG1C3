{
 "cells": [
  {
   "cell_type": "code",
   "execution_count": 19,
   "metadata": {},
   "outputs": [
    {
     "name": "stdout",
     "output_type": "stream",
     "text": [
      "400\n"
     ]
    }
   ],
   "source": [
    "estadisticas = open(\"estadisticas.txt\", \"r\")\n",
    "datos = {}\n",
    "estadisticas_separadas = estadisticas.readlines()\n",
    "for linea in estadisticas_separadas:\n",
    "    clave = (linea.strip().split())[0]\n",
    "    valor = (linea.strip().split())[1]\n",
    "    datos[clave] = valor\n",
    "estadisticas.close()\n",
    "print(int(datos[\"nivel\"]))"
   ]
  },
  {
   "cell_type": "code",
   "execution_count": 25,
   "metadata": {},
   "outputs": [],
   "source": [
    "estadisticas = open(\"estadisticas.txt\", \"w\")\n",
    "nivel = 0\n",
    "luces_conseguidas = 0\n",
    "tiempo_jugado = 0\n",
    "estadisticas.write(\"nivel \"+str(nivel)+\"\\nluces_conseguidas \"+str(luces_conseguidas)+\"\\ntiempo_jugado \"+str(tiempo_jugado))\n",
    "estadisticas.close()"
   ]
  },
  {
   "cell_type": "code",
   "execution_count": null,
   "metadata": {},
   "outputs": [
    {
     "name": "stdout",
     "output_type": "stream",
     "text": [
      "2\n"
     ]
    }
   ],
   "source": [
    "posicion_jugador=[0,1]\n",
    "fila_luz = 3\n",
    "columna_luz = 0\n",
    "distancia = (fila_luz-posicion_jugador[0])+(columna_luz-posicion_jugador[1])\n",
    "print(distancia)"
   ]
  },
  {
   "cell_type": "code",
   "execution_count": 35,
   "metadata": {},
   "outputs": [
    {
     "name": "stdout",
     "output_type": "stream",
     "text": [
      "True\n"
     ]
    }
   ],
   "source": [
    "pj = [0,0]\n",
    "pl = [0,0]\n",
    "print(pj==pl)"
   ]
  },
  {
   "cell_type": "code",
   "execution_count": 43,
   "metadata": {},
   "outputs": [
    {
     "name": "stdout",
     "output_type": "stream",
     "text": [
      "asdas\n",
      "sadas\n"
     ]
    }
   ],
   "source": [
    "print(\"asdas\")\n",
    "1+2\n",
    "print(\"sadas\")"
   ]
  },
  {
   "cell_type": "code",
   "execution_count": 6,
   "metadata": {},
   "outputs": [
    {
     "name": "stdout",
     "output_type": "stream",
     "text": [
      "10931213"
     ]
    }
   ],
   "source": [
    "mv = \"109312sd13s\"\n",
    "for i in range(len(mv)):\n",
    "    if mv[i]>=\"0\" and mv[i]<=\"9\":\n",
    "        print(mv[i],end=\"\")"
   ]
  },
  {
   "cell_type": "code",
   "execution_count": 9,
   "metadata": {},
   "outputs": [
    {
     "name": "stdout",
     "output_type": "stream",
     "text": [
      "hello\n",
      "2.0011560916900635\n"
     ]
    }
   ],
   "source": [
    "import time\n",
    "\n",
    "start = time.time()\n",
    "time.sleep(2)\n",
    "print(\"hello\")\n",
    "end = time.time()\n",
    "print(end - start)"
   ]
  }
 ],
 "metadata": {
  "kernelspec": {
   "display_name": "Python 3",
   "language": "python",
   "name": "python3"
  },
  "language_info": {
   "codemirror_mode": {
    "name": "ipython",
    "version": 3
   },
   "file_extension": ".py",
   "mimetype": "text/x-python",
   "name": "python",
   "nbconvert_exporter": "python",
   "pygments_lexer": "ipython3",
   "version": "3.11.4"
  }
 },
 "nbformat": 4,
 "nbformat_minor": 2
}
